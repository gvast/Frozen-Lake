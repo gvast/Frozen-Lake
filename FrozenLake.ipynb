{
 "cells": [
  {
   "cell_type": "code",
   "execution_count": 3,
   "id": "61ba9ed6",
   "metadata": {},
   "outputs": [],
   "source": [
    "import numpy as np\n",
    "import gym\n",
    "import random\n",
    "import time\n",
    "from IPython.display import clear_output\n",
    "import pygame"
   ]
  },
  {
   "cell_type": "code",
   "execution_count": 4,
   "id": "bf849a45",
   "metadata": {},
   "outputs": [],
   "source": [
    "env = gym.make(\"FrozenLake-v1\")"
   ]
  },
  {
   "cell_type": "code",
   "execution_count": 5,
   "id": "17690e06",
   "metadata": {},
   "outputs": [],
   "source": [
    "action_space_size = env.action_space.n\n",
    "state_space_size = env.observation_space.n\n",
    "\n",
    "q_table = np.zeros((state_space_size, action_space_size))"
   ]
  },
  {
   "cell_type": "code",
   "execution_count": 6,
   "id": "99d8d5d5",
   "metadata": {},
   "outputs": [],
   "source": [
    "num_episodes = 10000\n",
    "max_steps_per_episode = 100\n",
    "\n",
    "learning_rate = 0.1\n",
    "discount_rate = 0.99\n",
    "\n",
    "exploration_rate = 1\n",
    "max_exploration_rate = 1\n",
    "min_exploration_rate = 0.01\n",
    "exploration_decay_rate = 0.001"
   ]
  },
  {
   "cell_type": "code",
   "execution_count": 7,
   "id": "2beec526",
   "metadata": {},
   "outputs": [
    {
     "name": "stderr",
     "output_type": "stream",
     "text": [
      "C:\\Users\\Giorgos\\anaconda3\\envs\\test_env1\\lib\\site-packages\\gym\\utils\\passive_env_checker.py:233: DeprecationWarning: `np.bool8` is a deprecated alias for `np.bool_`.  (Deprecated NumPy 1.24)\n",
      "  if not isinstance(terminated, (bool, np.bool8)):\n"
     ]
    },
    {
     "name": "stdout",
     "output_type": "stream",
     "text": [
      "***Avg reward per 1000 episodes ***\n",
      "\n",
      "1000 :  0.05000000000000004\n",
      "2000 :  0.23000000000000018\n",
      "3000 :  0.4220000000000003\n",
      "4000 :  0.5800000000000004\n",
      "5000 :  0.6140000000000004\n",
      "6000 :  0.6500000000000005\n",
      "7000 :  0.6660000000000005\n",
      "8000 :  0.7060000000000005\n",
      "9000 :  0.6740000000000005\n",
      "10000 :  0.6930000000000005\n",
      "[[0.52402635 0.49241457 0.46888066 0.48779182]\n",
      " [0.42839483 0.2930975  0.2821123  0.4769314 ]\n",
      " [0.42345314 0.40850681 0.40933852 0.43543077]\n",
      " [0.2912091  0.34789586 0.34627473 0.42588447]\n",
      " [0.54557499 0.39087439 0.32278951 0.30289864]\n",
      " [0.         0.         0.         0.        ]\n",
      " [0.4148531  0.07807866 0.21469223 0.08309459]\n",
      " [0.         0.         0.         0.        ]\n",
      " [0.4398813  0.40551279 0.33403801 0.58409213]\n",
      " [0.37765516 0.62768228 0.35687525 0.33185862]\n",
      " [0.65867915 0.39394171 0.39517125 0.29191887]\n",
      " [0.         0.         0.         0.        ]\n",
      " [0.         0.         0.         0.        ]\n",
      " [0.46206896 0.55291374 0.74114886 0.40105417]\n",
      " [0.71063884 0.85890508 0.73102323 0.74433855]\n",
      " [0.         0.         0.         0.        ]]\n"
     ]
    }
   ],
   "source": [
    "rewards_all_episodes = []\n",
    "\n",
    "for episode in range(num_episodes):\n",
    "    \n",
    "    state = env.reset()[0]\n",
    "    \n",
    "    done = False\n",
    "    rewards_current_episode = 0\n",
    "    \n",
    "    for step in range(max_steps_per_episode):\n",
    "        \n",
    "        exploration_rate_threshold = random.uniform(0,1)\n",
    "        if exploration_rate_threshold > exploration_rate:\n",
    "            action = np.argmax(q_table[state, :])\n",
    "        else:\n",
    "            action = env.action_space.sample()\n",
    "        \n",
    "        next_state, reward, terminated, truncated , info = env.step(action)\n",
    "        \n",
    "        done = truncated or terminated\n",
    "        \n",
    "        q_table[state, action] = q_table[state, action] * (1 - learning_rate) + learning_rate * (reward + discount_rate * np.max(q_table[next_state, :]))\n",
    "        \n",
    "        state = next_state\n",
    "        rewards_current_episode += reward\n",
    "        \n",
    "        if done == True:\n",
    "            break\n",
    "            \n",
    "    exploration_rate = min_exploration_rate + (max_exploration_rate - min_exploration_rate) * np.exp(-exploration_decay_rate * episode)\n",
    "    \n",
    "    rewards_all_episodes.append(rewards_current_episode)\n",
    "\n",
    "rewards_per_thousand_episodes = np.split(np.array(rewards_all_episodes), num_episodes/1000)\n",
    "\n",
    "count = 1000\n",
    "\n",
    "print('***Avg reward per 1000 episodes ***\\n')\n",
    "for r in rewards_per_thousand_episodes:\n",
    "    print(count, \": \", str(sum(r/1000)))\n",
    "    count += 1000\n",
    "\n",
    "print(q_table)\n",
    "    \n",
    "        "
   ]
  },
  {
   "cell_type": "code",
   "execution_count": 8,
   "id": "45bb835a",
   "metadata": {},
   "outputs": [
    {
     "name": "stdout",
     "output_type": "stream",
     "text": [
      "Goal\n"
     ]
    }
   ],
   "source": [
    "env = gym.make(\"FrozenLake-v1\", render_mode=\"human\")\n",
    "\n",
    "for episode in range(3):\n",
    "    state = env.reset()[0]\n",
    "    done = False\n",
    "    print(\"***Episode \", episode+1, \"***\\n\\n\\n\\n\")\n",
    "    time.sleep(1)\n",
    "    \n",
    "    for step in range(max_steps_per_episode):\n",
    "        clear_output(wait=True)\n",
    "        env.render()\n",
    "        time.sleep(0.3)\n",
    "        \n",
    "        action = np.argmax(q_table[state, :])\n",
    "        next_state, reward, terminated, truncated , info = env.step(action)\n",
    "        done = terminated or truncated\n",
    "        \n",
    "        if done:\n",
    "            clear_output(wait=True)\n",
    "            env.render()\n",
    "            \n",
    "            if reward == 1 :\n",
    "                print(\"Goal\")\n",
    "                time.sleep(0.3)\n",
    "            else:\n",
    "                print(\"Hole!\")\n",
    "                time.sleep(0.3)\n",
    "            clear_output(wait=True)\n",
    "            break\n",
    "        \n",
    "        state = next_state\n",
    "        \n",
    "env.close()\n",
    "    "
   ]
  },
  {
   "cell_type": "code",
   "execution_count": null,
   "id": "289a617b",
   "metadata": {},
   "outputs": [],
   "source": []
  }
 ],
 "metadata": {
  "kernelspec": {
   "display_name": "Python (test_env1)",
   "language": "python",
   "name": "test_env1"
  },
  "language_info": {
   "codemirror_mode": {
    "name": "ipython",
    "version": 3
   },
   "file_extension": ".py",
   "mimetype": "text/x-python",
   "name": "python",
   "nbconvert_exporter": "python",
   "pygments_lexer": "ipython3",
   "version": "3.9.13"
  }
 },
 "nbformat": 4,
 "nbformat_minor": 5
}
